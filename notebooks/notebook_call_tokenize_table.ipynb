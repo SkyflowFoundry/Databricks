{
    "cells": [
        {
            "cell_type": "code",
            "execution_count": null,
            "metadata": {},
            "outputs": [],
            "source": [
                "# Call the tokenize_table notebook with PII fields\n",
                "result = dbutils.notebook.run(\n",
                "    \"/Workspace/Shared/<TODO: PREFIX>_tokenize_table\",  # Notebook path\n",
                "    timeout_seconds=600,  # Set timeout for execution\n",
                "    arguments={\n",
                "        \"table_name\": \"<TODO: PREFIX>_customer_data\",\n",
                "        \"pii_columns\": \"first_name,last_name,email,phone_number,address,date_of_birth\"\n",
                "    }\n",
                ")\n",
                "\n",
                "# Print the result returned from the notebook\n",
                "print(result)"
            ]
        }
    ],
    "metadata": {
        "language_info": {
            "name": "python"
        }
    },
    "nbformat": 4,
    "nbformat_minor": 5
}
